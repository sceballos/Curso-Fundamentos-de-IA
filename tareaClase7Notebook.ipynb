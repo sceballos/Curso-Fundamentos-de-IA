{
 "cells": [
  {
   "cell_type": "code",
   "execution_count": 2,
   "id": "e7e4b4e4",
   "metadata": {},
   "outputs": [],
   "source": [
    "import pandas as pd \n",
    "import numpy as np"
   ]
  },
  {
   "cell_type": "code",
   "execution_count": null,
   "id": "f2dd815b",
   "metadata": {},
   "outputs": [
    {
     "data": {
      "text/html": [
       "<div>\n",
       "<style scoped>\n",
       "    .dataframe tbody tr th:only-of-type {\n",
       "        vertical-align: middle;\n",
       "    }\n",
       "\n",
       "    .dataframe tbody tr th {\n",
       "        vertical-align: top;\n",
       "    }\n",
       "\n",
       "    .dataframe thead th {\n",
       "        text-align: right;\n",
       "    }\n",
       "</style>\n",
       "<table border=\"1\" class=\"dataframe\">\n",
       "  <thead>\n",
       "    <tr style=\"text-align: right;\">\n",
       "      <th></th>\n",
       "      <th>id_producto</th>\n",
       "      <th>nombre_producto</th>\n",
       "      <th>categoria</th>\n",
       "      <th>precio_unitario</th>\n",
       "    </tr>\n",
       "  </thead>\n",
       "  <tbody>\n",
       "    <tr>\n",
       "      <th>0</th>\n",
       "      <td>1</td>\n",
       "      <td>Coca Cola 1.5L</td>\n",
       "      <td>Alimentos</td>\n",
       "      <td>2347.0</td>\n",
       "    </tr>\n",
       "    <tr>\n",
       "      <th>1</th>\n",
       "      <td>2</td>\n",
       "      <td>Pepsi 1.5L</td>\n",
       "      <td>Limpieza</td>\n",
       "      <td>4973.0</td>\n",
       "    </tr>\n",
       "    <tr>\n",
       "      <th>2</th>\n",
       "      <td>3</td>\n",
       "      <td>Sprite 1.5L</td>\n",
       "      <td>Alimentos</td>\n",
       "      <td>4964.0</td>\n",
       "    </tr>\n",
       "    <tr>\n",
       "      <th>3</th>\n",
       "      <td>4</td>\n",
       "      <td>Fanta Naranja 1.5L</td>\n",
       "      <td>Limpieza</td>\n",
       "      <td>2033.0</td>\n",
       "    </tr>\n",
       "    <tr>\n",
       "      <th>4</th>\n",
       "      <td>5</td>\n",
       "      <td>Agua Mineral 500ml</td>\n",
       "      <td>Alimentos</td>\n",
       "      <td>4777.0</td>\n",
       "    </tr>\n",
       "  </tbody>\n",
       "</table>\n",
       "</div>"
      ],
      "text/plain": [
       "   id_producto     nombre_producto  categoria   precio_unitario\n",
       "0            1      Coca Cola 1.5L  Alimentos            2347.0\n",
       "1            2          Pepsi 1.5L   Limpieza            4973.0\n",
       "2            3         Sprite 1.5L  Alimentos            4964.0\n",
       "3            4  Fanta Naranja 1.5L   Limpieza            2033.0\n",
       "4            5  Agua Mineral 500ml  Alimentos            4777.0"
      ]
     },
     "execution_count": 5,
     "metadata": {},
     "output_type": "execute_result"
    }
   ],
   "source": [
    "df_productos = pd.read_csv(\"./productos99.csv\", sep=\",\")\n",
    "df_productos.head()"
   ]
  },
  {
   "cell_type": "code",
   "execution_count": null,
   "id": "6a1bab95",
   "metadata": {},
   "outputs": [
    {
     "name": "stdout",
     "output_type": "stream",
     "text": [
      "<class 'pandas.core.frame.DataFrame'>\n",
      "RangeIndex: 120 entries, 0 to 119\n",
      "Data columns (total 4 columns):\n",
      " #   Column            Non-Null Count  Dtype  \n",
      "---  ------            --------------  -----  \n",
      " 0   id_producto       120 non-null    int64  \n",
      " 1    nombre_producto  120 non-null    object \n",
      " 2    categoria        118 non-null    object \n",
      " 3    precio_unitario  117 non-null    float64\n",
      "dtypes: float64(1), int64(1), object(2)\n",
      "memory usage: 3.9+ KB\n"
     ]
    }
   ],
   "source": [
    "df_cliente.info()"
   ]
  },
  {
   "cell_type": "code",
   "execution_count": null,
   "id": "7fc22a6f",
   "metadata": {},
   "outputs": [],
   "source": []
  },
  {
   "cell_type": "markdown",
   "id": "d674841e",
   "metadata": {},
   "source": [
    "Observaciones: \n",
    "- Categoria tiene dos datos nulos que hay que revisar \n",
    "- precio_unitario tiene tres datos nulos que hay que revisar\n",
    "- Modificar los nombres de las ultimas tres columnas que hay que corregir   "
   ]
  },
  {
   "cell_type": "code",
   "execution_count": 7,
   "id": "083027e8",
   "metadata": {},
   "outputs": [
    {
     "data": {
      "text/plain": [
       "Index(['id_producto', ' nombre_producto', ' categoria', ' precio_unitario'], dtype='object')"
      ]
     },
     "execution_count": 7,
     "metadata": {},
     "output_type": "execute_result"
    }
   ],
   "source": [
    "df_cliente.columns"
   ]
  },
  {
   "cell_type": "markdown",
   "id": "0a120b07",
   "metadata": {},
   "source": []
  },
  {
   "cell_type": "code",
   "execution_count": 8,
   "id": "66507d8a",
   "metadata": {},
   "outputs": [],
   "source": [
    "df_productos = df_productos.rename(columns={\n",
    "    ' nombre_producto': \"nombre_producto\",\n",
    "    ' categoria':\"categoria\", \n",
    "    ' precio_unitario':\"precio_unitario\"\n",
    "})"
   ]
  },
  {
   "cell_type": "code",
   "execution_count": null,
   "id": "6444e9e3",
   "metadata": {},
   "outputs": [
    {
     "name": "stdout",
     "output_type": "stream",
     "text": [
      "<class 'pandas.core.frame.DataFrame'>\n",
      "RangeIndex: 120 entries, 0 to 119\n",
      "Data columns (total 4 columns):\n",
      " #   Column           Non-Null Count  Dtype  \n",
      "---  ------           --------------  -----  \n",
      " 0   id_producto      120 non-null    int64  \n",
      " 1   nombre_producto  120 non-null    object \n",
      " 2   categoria        118 non-null    object \n",
      " 3   precio_unitario  117 non-null    float64\n",
      "dtypes: float64(1), int64(1), object(2)\n",
      "memory usage: 3.9+ KB\n"
     ]
    }
   ],
   "source": [
    "df_cliente.info()"
   ]
  },
  {
   "cell_type": "code",
   "execution_count": 10,
   "id": "98897062",
   "metadata": {},
   "outputs": [
    {
     "name": "stdout",
     "output_type": "stream",
     "text": [
      "\n",
      "📘 TIPOS Y FORMATOS DE DATOS:\n",
      "id_producto          int64\n",
      "nombre_producto     object\n",
      "categoria           object\n",
      "precio_unitario    float64\n",
      "dtype: object\n"
     ]
    }
   ],
   "source": [
    "print(\"\\n📘 TIPOS Y FORMATOS DE DATOS:\")\n",
    "print(df_productos.dtypes)"
   ]
  },
  {
   "cell_type": "code",
   "execution_count": 11,
   "id": "899a2430",
   "metadata": {},
   "outputs": [
    {
     "name": "stdout",
     "output_type": "stream",
     "text": [
      "\n",
      "🚫 VALORES NULOS:\n",
      "id_producto        0\n",
      "nombre_producto    0\n",
      "categoria          2\n",
      "precio_unitario    3\n",
      "dtype: int64\n",
      "\n",
      "📋 CANTIDAD DE FILAS DUPLICADAS:\n",
      "0\n"
     ]
    }
   ],
   "source": [
    "print(\"\\n🚫 VALORES NULOS:\")\n",
    "print(df_productos.isnull().sum())\n",
    "\n",
    "print(\"\\n📋 CANTIDAD DE FILAS DUPLICADAS:\")\n",
    "print(df_productos.duplicated().sum())"
   ]
  },
  {
   "cell_type": "code",
   "execution_count": null,
   "id": "c8127e21",
   "metadata": {},
   "outputs": [
    {
     "name": "stdout",
     "output_type": "stream",
     "text": [
      "\n",
      "⚠️ VALORES ATÍPICOS (IQR):\n",
      "\n",
      "➡ id_producto:\n",
      "   Q1 = 30.75, Q3 = 90.25, IQR = 59.50\n",
      "   Límite inferior: -58.50\n",
      "   Límite superior: 179.50\n",
      "   Valores atípicos detectados: 0\n",
      "\n",
      "➡ precio_unitario:\n",
      "   Q1 = 1584.00, Q3 = 4061.00, IQR = 2477.00\n",
      "   Límite inferior: -2131.50\n",
      "   Límite superior: 7776.50\n",
      "   Valores atípicos detectados: 2\n"
     ]
    }
   ],
   "source": [
    "print(\"\\n⚠️ VALORES ATÍPICOS (IQR):\")\n",
    "\n",
    "columnas_numericas = df_productos.select_dtypes(include=[np.number]).columns\n",
    "\n",
    "for col in columnas_numericas:\n",
    "    q1 = df_productos[col].quantile(0.25)\n",
    "    q3 = df_productos[col].quantile(0.75)\n",
    "    iqr = q3 - q1\n",
    "    limite_inferior = q1 - 1.5 * iqr\n",
    "    limite_superior = q3 + 1.5 * iqr\n",
    "    outliers = df_productos[(df_productos[col] < limite_inferior) | (df_productos[col] > limite_superior)]\n",
    "\n",
    "    print(f\"\\n➡ {col}:\")\n",
    "    print(f\"   Q1 = {q1:.2f}, Q3 = {q3:.2f}, IQR = {iqr:.2f}\")\n",
    "    print(f\"   Límite inferior: {limite_inferior:.2f}\")\n",
    "    print(f\"   Límite superior: {limite_superior:.2f}\")\n",
    "    print(f\"   Valores atípicos detectados: {len(outliers)}\")\n"
   ]
  },
  {
   "cell_type": "code",
   "execution_count": 13,
   "id": "45010ba8",
   "metadata": {},
   "outputs": [
    {
     "name": "stdout",
     "output_type": "stream",
     "text": [
      "\n",
      "📏 RANGOS DE VARIABLES NUMÉRICAS:\n",
      "id_producto: Mínimo = 1, Máximo = 120, Rango = 119\n",
      "precio_unitario: Mínimo = -1450.0, Máximo = 999999.0, Rango = 1001449.0\n"
     ]
    }
   ],
   "source": [
    "print(\"\\n📏 RANGOS DE VARIABLES NUMÉRICAS:\")\n",
    "\n",
    "for col in columnas_numericas:\n",
    "    minimo = df_productos[col].min()\n",
    "    maximo = df_productos[col].max()\n",
    "    print(f\"{col}: Mínimo = {minimo}, Máximo = {maximo}, Rango = {maximo - minimo}\")\n"
   ]
  },
  {
   "cell_type": "code",
   "execution_count": 14,
   "id": "d1ffae05",
   "metadata": {},
   "outputs": [
    {
     "name": "stdout",
     "output_type": "stream",
     "text": [
      "\n",
      "📈 MEDIAS, MEDIANAS Y MODAS:\n",
      "id_producto: Media = 60.50, Mediana = 60.50, Moda = 1\n",
      "precio_unitario: Media = 12000.73, Mediana = 2512.00, Moda = 1571.0\n"
     ]
    }
   ],
   "source": [
    "print(\"\\n📈 MEDIAS, MEDIANAS Y MODAS:\")\n",
    "\n",
    "for col in columnas_numericas:\n",
    "    media = df_productos[col].mean()\n",
    "    mediana = df_productos[col].median()\n",
    "    moda = df_productos[col].mode()[0] if not df_productos[col].mode().empty else None\n",
    "    print(f\"{col}: Media = {media:.2f}, Mediana = {mediana:.2f}, Moda = {moda}\")\n"
   ]
  },
  {
   "cell_type": "code",
   "execution_count": 15,
   "id": "a8eb126a",
   "metadata": {},
   "outputs": [
    {
     "name": "stdout",
     "output_type": "stream",
     "text": [
      "\n",
      "📊 DESVIACIÓN ESTÁNDAR:\n",
      "id_producto: Desviación estándar = 34.79\n",
      "precio_unitario: Desviación estándar = 92577.43\n"
     ]
    }
   ],
   "source": [
    "print(\"\\n📊 DESVIACIÓN ESTÁNDAR:\")\n",
    "\n",
    "for col in columnas_numericas:\n",
    "    desvio = df_productos[col].std()\n",
    "    print(f\"{col}: Desviación estándar = {desvio:.2f}\")\n"
   ]
  },
  {
   "cell_type": "code",
   "execution_count": 16,
   "id": "7f2b9570",
   "metadata": {},
   "outputs": [
    {
     "name": "stdout",
     "output_type": "stream",
     "text": [
      "\n",
      "✅ ANÁLISIS COMPLETADO EXITOSAMENTE.\n",
      "Total de filas analizadas: 120\n",
      "Total de columnas: 4\n"
     ]
    }
   ],
   "source": [
    "print(\"\\n✅ ANÁLISIS COMPLETADO EXITOSAMENTE.\")\n",
    "print(f\"Total de filas analizadas: {len(df_productos)}\")\n",
    "print(f\"Total de columnas: {len(df_productos.columns)}\")\n"
   ]
  },
  {
   "cell_type": "code",
   "execution_count": 18,
   "id": "4d470578",
   "metadata": {},
   "outputs": [
    {
     "data": {
      "text/html": [
       "<div>\n",
       "<style scoped>\n",
       "    .dataframe tbody tr th:only-of-type {\n",
       "        vertical-align: middle;\n",
       "    }\n",
       "\n",
       "    .dataframe tbody tr th {\n",
       "        vertical-align: top;\n",
       "    }\n",
       "\n",
       "    .dataframe thead th {\n",
       "        text-align: right;\n",
       "    }\n",
       "</style>\n",
       "<table border=\"1\" class=\"dataframe\">\n",
       "  <thead>\n",
       "    <tr style=\"text-align: right;\">\n",
       "      <th></th>\n",
       "      <th>id_cliente</th>\n",
       "      <th>nombre_cliente</th>\n",
       "      <th>email</th>\n",
       "      <th>ciudad</th>\n",
       "      <th>fecha_alta</th>\n",
       "    </tr>\n",
       "  </thead>\n",
       "  <tbody>\n",
       "    <tr>\n",
       "      <th>0</th>\n",
       "      <td>1</td>\n",
       "      <td>Mariana Lopez</td>\n",
       "      <td>mariana.lopez@mail.com</td>\n",
       "      <td>Carlos Paz</td>\n",
       "      <td>44927.0</td>\n",
       "    </tr>\n",
       "    <tr>\n",
       "      <th>1</th>\n",
       "      <td>2</td>\n",
       "      <td>Nicolas Rojas</td>\n",
       "      <td>nicolas.rojas@mail.com</td>\n",
       "      <td>Carlos Paz</td>\n",
       "      <td>44928.0</td>\n",
       "    </tr>\n",
       "    <tr>\n",
       "      <th>2</th>\n",
       "      <td>3</td>\n",
       "      <td>Hernan Martinez</td>\n",
       "      <td>hernan.martinez@mail.com</td>\n",
       "      <td>Rio Cuarto</td>\n",
       "      <td>44929.0</td>\n",
       "    </tr>\n",
       "    <tr>\n",
       "      <th>3</th>\n",
       "      <td>4</td>\n",
       "      <td>Uma Martinez</td>\n",
       "      <td>uma.martinez@mail.com</td>\n",
       "      <td>Carlos Paz</td>\n",
       "      <td>44930.0</td>\n",
       "    </tr>\n",
       "    <tr>\n",
       "      <th>4</th>\n",
       "      <td>5</td>\n",
       "      <td>Agustina Flores</td>\n",
       "      <td>agustina.flores@mail.com</td>\n",
       "      <td>Cordoba</td>\n",
       "      <td>44931.0</td>\n",
       "    </tr>\n",
       "  </tbody>\n",
       "</table>\n",
       "</div>"
      ],
      "text/plain": [
       "   id_cliente   nombre_cliente                     email      ciudad  \\\n",
       "0           1    Mariana Lopez    mariana.lopez@mail.com  Carlos Paz   \n",
       "1           2    Nicolas Rojas    nicolas.rojas@mail.com  Carlos Paz   \n",
       "2           3  Hernan Martinez  hernan.martinez@mail.com  Rio Cuarto   \n",
       "3           4     Uma Martinez     uma.martinez@mail.com  Carlos Paz   \n",
       "4           5  Agustina Flores  agustina.flores@mail.com     Cordoba   \n",
       "\n",
       "    fecha_alta  \n",
       "0      44927.0  \n",
       "1      44928.0  \n",
       "2      44929.0  \n",
       "3      44930.0  \n",
       "4      44931.0  "
      ]
     },
     "execution_count": 18,
     "metadata": {},
     "output_type": "execute_result"
    }
   ],
   "source": [
    "df_cliente = pd.read_csv(\"./clientes99.csv\", sep=\",\")\n",
    "df_cliente.head()"
   ]
  },
  {
   "cell_type": "code",
   "execution_count": 19,
   "id": "81b286f2",
   "metadata": {},
   "outputs": [
    {
     "name": "stdout",
     "output_type": "stream",
     "text": [
      "<class 'pandas.core.frame.DataFrame'>\n",
      "RangeIndex: 100 entries, 0 to 99\n",
      "Data columns (total 5 columns):\n",
      " #   Column           Non-Null Count  Dtype  \n",
      "---  ------           --------------  -----  \n",
      " 0   id_cliente       100 non-null    int64  \n",
      " 1    nombre_cliente  100 non-null    object \n",
      " 2    email           100 non-null    object \n",
      " 3    ciudad          100 non-null    object \n",
      " 4    fecha_alta      99 non-null     float64\n",
      "dtypes: float64(1), int64(1), object(3)\n",
      "memory usage: 4.0+ KB\n"
     ]
    }
   ],
   "source": [
    "df_cliente.info()"
   ]
  },
  {
   "cell_type": "code",
   "execution_count": 20,
   "id": "0efac6e0",
   "metadata": {},
   "outputs": [
    {
     "name": "stdout",
     "output_type": "stream",
     "text": [
      "\n",
      "📘 TIPOS Y FORMATOS DE DATOS:\n",
      "id_cliente           int64\n",
      " nombre_cliente     object\n",
      " email              object\n",
      " ciudad             object\n",
      " fecha_alta        float64\n",
      "dtype: object\n"
     ]
    }
   ],
   "source": [
    "print(\"\\n📘 TIPOS Y FORMATOS DE DATOS:\")\n",
    "print(df_cliente.dtypes)"
   ]
  },
  {
   "cell_type": "code",
   "execution_count": 21,
   "id": "bb187eb8",
   "metadata": {},
   "outputs": [
    {
     "name": "stdout",
     "output_type": "stream",
     "text": [
      "\n",
      "🚫 VALORES NULOS:\n",
      "id_cliente         0\n",
      " nombre_cliente    0\n",
      " email             0\n",
      " ciudad            0\n",
      " fecha_alta        1\n",
      "dtype: int64\n",
      "\n",
      "📋 CANTIDAD DE FILAS DUPLICADAS:\n",
      "0\n"
     ]
    }
   ],
   "source": [
    "print(\"\\n🚫 VALORES NULOS:\")\n",
    "print(df_cliente.isnull().sum())\n",
    "\n",
    "print(\"\\n📋 CANTIDAD DE FILAS DUPLICADAS:\")\n",
    "print(df_cliente.duplicated().sum())"
   ]
  },
  {
   "cell_type": "code",
   "execution_count": 22,
   "id": "27864ca3",
   "metadata": {},
   "outputs": [
    {
     "name": "stdout",
     "output_type": "stream",
     "text": [
      "\n",
      "⚠️ VALORES ATÍPICOS (IQR):\n",
      "\n",
      "➡ id_cliente:\n",
      "   Q1 = 25.75, Q3 = 75.25, IQR = 49.50\n",
      "   Límite inferior: -48.50\n",
      "   Límite superior: 149.50\n",
      "   Valores atípicos detectados: 0\n",
      "\n",
      "➡  fecha_alta:\n",
      "   Q1 = 44951.50, Q3 = 45000.50, IQR = 49.00\n",
      "   Límite inferior: 44878.00\n",
      "   Límite superior: 45074.00\n",
      "   Valores atípicos detectados: 0\n"
     ]
    }
   ],
   "source": [
    "print(\"\\n⚠️ VALORES ATÍPICOS (IQR):\")\n",
    "\n",
    "columnas_numericas = df_cliente.select_dtypes(include=[np.number]).columns\n",
    "\n",
    "for col in columnas_numericas:\n",
    "    q1 = df_cliente[col].quantile(0.25)\n",
    "    q3 = df_cliente[col].quantile(0.75)\n",
    "    iqr = q3 - q1\n",
    "    limite_inferior = q1 - 1.5 * iqr\n",
    "    limite_superior = q3 + 1.5 * iqr\n",
    "    outliers = df_cliente[(df_cliente[col] < limite_inferior) | (df_cliente[col] > limite_superior)]\n",
    "\n",
    "    print(f\"\\n➡ {col}:\")\n",
    "    print(f\"   Q1 = {q1:.2f}, Q3 = {q3:.2f}, IQR = {iqr:.2f}\")\n",
    "    print(f\"   Límite inferior: {limite_inferior:.2f}\")\n",
    "    print(f\"   Límite superior: {limite_superior:.2f}\")\n",
    "    print(f\"   Valores atípicos detectados: {len(outliers)}\")"
   ]
  },
  {
   "cell_type": "code",
   "execution_count": 23,
   "id": "15e37b3c",
   "metadata": {},
   "outputs": [
    {
     "name": "stdout",
     "output_type": "stream",
     "text": [
      "\n",
      "📏 RANGOS DE VARIABLES NUMÉRICAS:\n",
      "id_cliente: Mínimo = 1, Máximo = 100, Rango = 99\n",
      " fecha_alta: Mínimo = 44927.0, Máximo = 45025.0, Rango = 98.0\n"
     ]
    }
   ],
   "source": [
    "print(\"\\n📏 RANGOS DE VARIABLES NUMÉRICAS:\")\n",
    "\n",
    "for col in columnas_numericas:\n",
    "    minimo = df_cliente[col].min()\n",
    "    maximo = df_cliente[col].max()\n",
    "    print(f\"{col}: Mínimo = {minimo}, Máximo = {maximo}, Rango = {maximo - minimo}\")\n"
   ]
  }
 ],
 "metadata": {
  "kernelspec": {
   "display_name": ".venv",
   "language": "python",
   "name": "python3"
  },
  "language_info": {
   "codemirror_mode": {
    "name": "ipython",
    "version": 3
   },
   "file_extension": ".py",
   "mimetype": "text/x-python",
   "name": "python",
   "nbconvert_exporter": "python",
   "pygments_lexer": "ipython3",
   "version": "3.13.7"
  }
 },
 "nbformat": 4,
 "nbformat_minor": 5
}
